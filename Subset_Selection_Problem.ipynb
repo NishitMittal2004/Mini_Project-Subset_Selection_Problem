{
  "nbformat": 4,
  "nbformat_minor": 0,
  "metadata": {
    "colab": {
      "provenance": [],
      "authorship_tag": "ABX9TyOxwqkvfgZmEWcHuoKzK9hn",
      "include_colab_link": true
    },
    "kernelspec": {
      "name": "python3",
      "display_name": "Python 3"
    },
    "language_info": {
      "name": "python"
    }
  },
  "cells": [
    {
      "cell_type": "markdown",
      "metadata": {
        "id": "view-in-github",
        "colab_type": "text"
      },
      "source": [
        "<a href=\"https://colab.research.google.com/github/NishitMittal2004/Mini_Project-Subset_Selection_Problem/blob/main/Subset_Selection_Problem.ipynb\" target=\"_parent\"><img src=\"https://colab.research.google.com/assets/colab-badge.svg\" alt=\"Open In Colab\"/></a>"
      ]
    },
    {
      "cell_type": "markdown",
      "source": [
        "# **Subset Selection Problem**\n"
      ],
      "metadata": {
        "id": "Ws__jvJdUx-C"
      }
    },
    {
      "cell_type": "markdown",
      "source": [
        "---\n",
        "### **1. Problem Statement :**\n",
        "##### Find all the subsets from a set of numbers whose sum is zero.\n",
        "\n",
        "##### **Constraint :** Subset size must be 5\n",
        "##### Set={-12, -3, -6, 7, 2, -2, 6, 3, 9, -7, -5, -8, 1, 11, -9, -4}\n",
        "---"
      ],
      "metadata": {
        "id": "B_0ufH61U_5j"
      }
    },
    {
      "cell_type": "code",
      "execution_count": 13,
      "metadata": {
        "id": "wdo5d_mkUZKl",
        "colab": {
          "base_uri": "https://localhost:8080/"
        },
        "outputId": "c579eb1b-44f7-4757-9b6b-f3ff3569acc1"
      },
      "outputs": [
        {
          "output_type": "stream",
          "name": "stdout",
          "text": [
            "[6, -12, 1, -6, 11]\n",
            "[7, -2, -3, 2, -4]\n",
            "[-12, -7, 9, 3, 7]\n",
            "[1, -4, -6, 3, 6]\n",
            "[-3, 11, -7, -8, 7]\n",
            "[-6, 11, -8, 2, 1]\n",
            "[11, 7, -3, -8, -7]\n",
            "[-9, 11, -6, 3, 1]\n",
            "[-12, 1, 11, -7, 7]\n",
            "[3, 1, -4, 9, -9]\n",
            "[1, -3, -6, 2, 6]\n",
            "[-2, 9, -3, 3, -7]\n",
            "[7, -12, 3, 9, -7]\n",
            "[-5, -2, 3, -7, 11]\n",
            "[3, 7, -7, 6, -9]\n",
            "[11, -2, -7, -3, 1]\n",
            "[6, 3, -12, -4, 7]\n",
            "[11, -6, -3, -4, 2]\n",
            "[11, -12, 3, 6, -8]\n",
            "[6, 11, -12, -7, 2]\n",
            "[1, 3, -6, 7, -5]\n",
            "[-12, -7, 7, 1, 11]\n",
            "[-4, 2, -12, 3, 11]\n",
            "[1, 9, -5, -2, -3]\n",
            "[2, 11, -4, -3, -6]\n",
            "[1, 11, -9, -5, 2]\n",
            "[-2, 6, -3, -8, 7]\n",
            "[-8, -6, 6, -3, 11]\n",
            "[-3, -2, 9, 2, -6]\n",
            "Total sets = 29\n"
          ]
        },
        {
          "output_type": "stream",
          "name": "stderr",
          "text": [
            "<ipython-input-13-e2994388d77c>:10: DeprecationWarning: Sampling from a set deprecated\n",
            "since Python 3.9 and will be removed in a subsequent version.\n",
            "  elements = r.sample(Set, 5)\n"
          ]
        }
      ],
      "source": [
        "# Import the library\n",
        "import random as r\n",
        "\n",
        "# Define set\n",
        "Set = set([-12, -3, -6, 7, 2, -2, 6, 3, 9, -7, -5, -8, 1, 11, -9, -4])\n",
        "Final_list = []   # This is the list of sets whose sum = 0\n",
        "\n",
        "for i in range(1001):\n",
        "  # Select elements from set whose size is 5\n",
        "  elements = r.sample(Set, 5)\n",
        "\n",
        "  if sum(elements) == 0:\n",
        "    Final_list.append(elements)\n",
        "\n",
        "# Print all the sets whose sum is zero\n",
        "for j in Final_list:\n",
        "  print(j)\n",
        "\n",
        "# Print the no. of total sets\n",
        "print(\"Total sets =\", len(Final_list))"
      ]
    },
    {
      "cell_type": "markdown",
      "source": [
        "---\n",
        "### **2. Problem Statement :**\n",
        "##### Find all the subsets from a set of numbers whose sum is zero.\n",
        "\n",
        "##### **Constraint :** Subset size must be 3 to 6 only\n",
        "##### Set={-12, -3, -6, 7, 2, -2, 6, 3, 9, -7, -5, -8, 1, 11, -9, -4}\n",
        "---"
      ],
      "metadata": {
        "id": "nI7_FMtqglYb"
      }
    },
    {
      "cell_type": "code",
      "source": [
        "# Import the library\n",
        "import random as r\n",
        "\n",
        "# Define set\n",
        "Set=set([-12, -3, -6, 7, 2, -2, 6, 3, 9, -7, -5, -8, 1, 11, -9, -4])\n",
        "Final_list = []    # This is the list of sets whose sum = 0\n",
        "\n",
        "for i in range(1001):\n",
        "  # Select elements from set whose size is 3 to 6 only\n",
        "  elements = r.sample(Set, r.randint(3,6))\n",
        "\n",
        "  if sum(elements) == 0:\n",
        "    Final_list.append(elements)\n",
        "\n",
        "# Print all the sets whose sum is zero\n",
        "for j in Final_list:\n",
        "  print(j)\n",
        "\n",
        "# Print the no. of total sets\n",
        "print(\"Total sets = \", len(Final_list))"
      ],
      "metadata": {
        "colab": {
          "base_uri": "https://localhost:8080/"
        },
        "id": "_eqzn9lBg7MV",
        "outputId": "d0c4719d-38c7-4c8c-f218-63c84927bf10"
      },
      "execution_count": 16,
      "outputs": [
        {
          "output_type": "stream",
          "name": "stdout",
          "text": [
            "[-6, -8, 1, 11, -4, 6]\n",
            "[-5, -2, -4, 11]\n",
            "[2, 6, -8]\n",
            "[-5, 2, 7, -4]\n",
            "[-7, 11, -4]\n",
            "[-7, 3, 7, -3]\n",
            "[2, 3, -5]\n",
            "[-12, 1, 11]\n",
            "[-3, -9, -7, 1, 7, 11]\n",
            "[-12, 3, 7, 2]\n",
            "[1, 7, -8]\n",
            "[-4, 9, -2, -3]\n",
            "[-9, 9, 7, -4, 2, -5]\n",
            "[6, -4, -2]\n",
            "[2, 11, -6, 1, -8]\n",
            "[7, 9, -12, 3, -7]\n",
            "[-4, 1, 2, -2, 3]\n",
            "[6, -8, 2]\n",
            "[3, -4, -5, -2, 1, 7]\n",
            "[-5, -3, 3, 7, -2]\n",
            "[7, -5, -2]\n",
            "[2, -9, 7]\n",
            "[-3, -12, 9, 6]\n",
            "[7, -8, 1]\n",
            "[9, -6, -3]\n",
            "[3, -4, 1]\n",
            "[6, 2, -8]\n",
            "[-2, 6, -4, 7, -7]\n",
            "[2, 3, -3, -2]\n",
            "[6, -5, 7, -8]\n",
            "[-6, 9, -3]\n",
            "[2, 11, -4, -3, -6]\n",
            "[-7, -12, 9, 11, 1, -2]\n",
            "Total sets =  33\n"
          ]
        },
        {
          "output_type": "stream",
          "name": "stderr",
          "text": [
            "<ipython-input-16-e1b84f4ce073>:7: DeprecationWarning: Sampling from a set deprecated\n",
            "since Python 3.9 and will be removed in a subsequent version.\n",
            "  elements = r.sample(Set, r.randint(3,6))\n"
          ]
        }
      ]
    }
  ]
}